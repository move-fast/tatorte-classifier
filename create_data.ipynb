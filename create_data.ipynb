{
 "cells": [
  {
   "cell_type": "code",
   "execution_count": 10,
   "metadata": {},
   "outputs": [],
   "source": [
    "import pandas as pd\n",
    "import numpy as np\n",
    "import json\n",
    "from tqdm import tqdm_notebook"
   ]
  },
  {
   "cell_type": "code",
   "execution_count": 11,
   "metadata": {},
   "outputs": [
    {
     "data": {
      "text/html": [
       "<div>\n",
       "<style scoped>\n",
       "    .dataframe tbody tr th:only-of-type {\n",
       "        vertical-align: middle;\n",
       "    }\n",
       "\n",
       "    .dataframe tbody tr th {\n",
       "        vertical-align: top;\n",
       "    }\n",
       "\n",
       "    .dataframe thead th {\n",
       "        text-align: right;\n",
       "    }\n",
       "</style>\n",
       "<table border=\"1\" class=\"dataframe\">\n",
       "  <thead>\n",
       "    <tr style=\"text-align: right;\">\n",
       "      <th></th>\n",
       "      <th>id</th>\n",
       "      <th>title</th>\n",
       "      <th>uid</th>\n",
       "      <th>address</th>\n",
       "      <th>description</th>\n",
       "      <th>source_url</th>\n",
       "      <th>created_timestamp</th>\n",
       "      <th>action_timestamp</th>\n",
       "      <th>point</th>\n",
       "      <th>exact</th>\n",
       "      <th>image_urls</th>\n",
       "      <th>once_visible</th>\n",
       "      <th>modified_timestamp</th>\n",
       "      <th>parser_error</th>\n",
       "      <th>original_title</th>\n",
       "      <th>original_point</th>\n",
       "      <th>teaser</th>\n",
       "      <th>show_teaser</th>\n",
       "    </tr>\n",
       "  </thead>\n",
       "  <tbody>\n",
       "    <tr>\n",
       "      <th>0</th>\n",
       "      <td>5809</td>\n",
       "      <td>Gasaustritt in Tiergarten</td>\n",
       "      <td>b4125cbc952cf3717f83112feddf51cf</td>\n",
       "      <td>NaN</td>\n",
       "      <td>Im Erdgeschoss eines Labors für Lebensmittelun...</td>\n",
       "      <td>http://www.berliner-feuerwehr.de/aktuelles/ein...</td>\n",
       "      <td>2016-10-10 09:42:48.132078+00</td>\n",
       "      <td>2016-09-02 14:38:00+00</td>\n",
       "      <td>NaN</td>\n",
       "      <td>f</td>\n",
       "      <td>{http://www.berliner-feuerwehr.de/typo3temp/_p...</td>\n",
       "      <td>f</td>\n",
       "      <td>2017-01-06 13:31:34.645978+00</td>\n",
       "      <td>f</td>\n",
       "      <td>Gasaustritt in Tiergarten</td>\n",
       "      <td>NaN</td>\n",
       "      <td>NaN</td>\n",
       "      <td>f</td>\n",
       "    </tr>\n",
       "    <tr>\n",
       "      <th>1</th>\n",
       "      <td>16916</td>\n",
       "      <td>Erneut Brandmeldealarm im Industriegebiet</td>\n",
       "      <td>8796ef4b85eda1c1891e5d4649de2038</td>\n",
       "      <td>NaN</td>\n",
       "      <td>Breckerfeld (ots) -</td>\n",
       "      <td>http://www.presseportal.de/blaulicht/pm/69791/...</td>\n",
       "      <td>2016-10-31 15:57:44.027312+00</td>\n",
       "      <td>2016-08-27 08:47:00+00</td>\n",
       "      <td>NaN</td>\n",
       "      <td>f</td>\n",
       "      <td>NaN</td>\n",
       "      <td>f</td>\n",
       "      <td>2017-01-06 13:31:35.421672+00</td>\n",
       "      <td>f</td>\n",
       "      <td>Erneut Brandmeldealarm im Industriegebiet</td>\n",
       "      <td>NaN</td>\n",
       "      <td>NaN</td>\n",
       "      <td>f</td>\n",
       "    </tr>\n",
       "    <tr>\n",
       "      <th>2</th>\n",
       "      <td>88989</td>\n",
       "      <td>Sofa brannte</td>\n",
       "      <td>FpDsO3BmnRpVZtLNRIFkBMeUx3AMhLxL</td>\n",
       "      <td>NaN</td>\n",
       "      <td>Ahlen (ots) - Der Löschzug der Feuerwehr Ahlen...</td>\n",
       "      <td>http://www.presseportal.de/blaulicht/pm/119855...</td>\n",
       "      <td>2017-02-03 02:28:44.041216+00</td>\n",
       "      <td>2017-02-02 17:55:00+00</td>\n",
       "      <td>NaN</td>\n",
       "      <td>f</td>\n",
       "      <td>{}</td>\n",
       "      <td>f</td>\n",
       "      <td>2017-02-03 02:28:44.04125+00</td>\n",
       "      <td>f</td>\n",
       "      <td>Sofa brannte</td>\n",
       "      <td>NaN</td>\n",
       "      <td>NaN</td>\n",
       "      <td>f</td>\n",
       "    </tr>\n",
       "    <tr>\n",
       "      <th>3</th>\n",
       "      <td>120903</td>\n",
       "      <td>Zwei Autos auf der Eschenstraße und der Straße...</td>\n",
       "      <td>d9QF07cWv558krRvUFBUX6ojZe1TBL7I</td>\n",
       "      <td>NaN</td>\n",
       "      <td>Recklinghausen (ots) - Am Sonntag, zur Tagesze...</td>\n",
       "      <td>http://www.presseportal.de/pm/42900/3583148</td>\n",
       "      <td>2017-03-14 04:02:11.661131+00</td>\n",
       "      <td>2017-03-13 08:54:00+00</td>\n",
       "      <td>NaN</td>\n",
       "      <td>f</td>\n",
       "      <td>{}</td>\n",
       "      <td>f</td>\n",
       "      <td>2017-03-14 04:02:11.661164+00</td>\n",
       "      <td>f</td>\n",
       "      <td>Zwei Autos auf der Eschenstraße und der Straße...</td>\n",
       "      <td>NaN</td>\n",
       "      <td>NaN</td>\n",
       "      <td>f</td>\n",
       "    </tr>\n",
       "    <tr>\n",
       "      <th>4</th>\n",
       "      <td>44635</td>\n",
       "      <td>Zell a.H., Unterentersbach - Zwei Einbrüche</td>\n",
       "      <td>0ccdFRLOhJfj8BpbqcmQfXvRK7OjDFJh</td>\n",
       "      <td>NaN</td>\n",
       "      <td>Zell a.H., Unterentersbach (ots) - Zell a.H., ...</td>\n",
       "      <td>http://www.presseportal.de/blaulicht/pm/110975...</td>\n",
       "      <td>2016-12-02 14:42:06.614737+00</td>\n",
       "      <td>2016-12-02 11:13:00+00</td>\n",
       "      <td>NaN</td>\n",
       "      <td>f</td>\n",
       "      <td>{}</td>\n",
       "      <td>f</td>\n",
       "      <td>2017-01-06 13:31:35.754956+00</td>\n",
       "      <td>f</td>\n",
       "      <td>Zell a.H., Unterentersbach - Zwei Einbrüche</td>\n",
       "      <td>NaN</td>\n",
       "      <td>NaN</td>\n",
       "      <td>f</td>\n",
       "    </tr>\n",
       "  </tbody>\n",
       "</table>\n",
       "</div>"
      ],
      "text/plain": [
       "       id                                              title  \\\n",
       "0    5809                          Gasaustritt in Tiergarten   \n",
       "1   16916          Erneut Brandmeldealarm im Industriegebiet   \n",
       "2   88989                                       Sofa brannte   \n",
       "3  120903  Zwei Autos auf der Eschenstraße und der Straße...   \n",
       "4   44635        Zell a.H., Unterentersbach - Zwei Einbrüche   \n",
       "\n",
       "                                uid address  \\\n",
       "0  b4125cbc952cf3717f83112feddf51cf     NaN   \n",
       "1  8796ef4b85eda1c1891e5d4649de2038     NaN   \n",
       "2  FpDsO3BmnRpVZtLNRIFkBMeUx3AMhLxL     NaN   \n",
       "3  d9QF07cWv558krRvUFBUX6ojZe1TBL7I     NaN   \n",
       "4  0ccdFRLOhJfj8BpbqcmQfXvRK7OjDFJh     NaN   \n",
       "\n",
       "                                         description  \\\n",
       "0  Im Erdgeschoss eines Labors für Lebensmittelun...   \n",
       "1                               Breckerfeld (ots) -    \n",
       "2  Ahlen (ots) - Der Löschzug der Feuerwehr Ahlen...   \n",
       "3  Recklinghausen (ots) - Am Sonntag, zur Tagesze...   \n",
       "4  Zell a.H., Unterentersbach (ots) - Zell a.H., ...   \n",
       "\n",
       "                                          source_url  \\\n",
       "0  http://www.berliner-feuerwehr.de/aktuelles/ein...   \n",
       "1  http://www.presseportal.de/blaulicht/pm/69791/...   \n",
       "2  http://www.presseportal.de/blaulicht/pm/119855...   \n",
       "3        http://www.presseportal.de/pm/42900/3583148   \n",
       "4  http://www.presseportal.de/blaulicht/pm/110975...   \n",
       "\n",
       "               created_timestamp        action_timestamp point exact  \\\n",
       "0  2016-10-10 09:42:48.132078+00  2016-09-02 14:38:00+00   NaN     f   \n",
       "1  2016-10-31 15:57:44.027312+00  2016-08-27 08:47:00+00   NaN     f   \n",
       "2  2017-02-03 02:28:44.041216+00  2017-02-02 17:55:00+00   NaN     f   \n",
       "3  2017-03-14 04:02:11.661131+00  2017-03-13 08:54:00+00   NaN     f   \n",
       "4  2016-12-02 14:42:06.614737+00  2016-12-02 11:13:00+00   NaN     f   \n",
       "\n",
       "                                          image_urls once_visible  \\\n",
       "0  {http://www.berliner-feuerwehr.de/typo3temp/_p...            f   \n",
       "1                                                NaN            f   \n",
       "2                                                 {}            f   \n",
       "3                                                 {}            f   \n",
       "4                                                 {}            f   \n",
       "\n",
       "              modified_timestamp parser_error  \\\n",
       "0  2017-01-06 13:31:34.645978+00            f   \n",
       "1  2017-01-06 13:31:35.421672+00            f   \n",
       "2   2017-02-03 02:28:44.04125+00            f   \n",
       "3  2017-03-14 04:02:11.661164+00            f   \n",
       "4  2017-01-06 13:31:35.754956+00            f   \n",
       "\n",
       "                                      original_title original_point teaser  \\\n",
       "0                          Gasaustritt in Tiergarten            NaN    NaN   \n",
       "1          Erneut Brandmeldealarm im Industriegebiet            NaN    NaN   \n",
       "2                                       Sofa brannte            NaN    NaN   \n",
       "3  Zwei Autos auf der Eschenstraße und der Straße...            NaN    NaN   \n",
       "4        Zell a.H., Unterentersbach - Zwei Einbrüche            NaN    NaN   \n",
       "\n",
       "  show_teaser  \n",
       "0           f  \n",
       "1           f  \n",
       "2           f  \n",
       "3           f  \n",
       "4           f  "
      ]
     },
     "execution_count": 11,
     "metadata": {},
     "output_type": "execute_result"
    }
   ],
   "source": [
    "data = pd.read_csv(\"/home/peer/Data/tatorte.csv\", \";\")\n",
    "data.head()"
   ]
  },
  {
   "cell_type": "code",
   "execution_count": 12,
   "metadata": {},
   "outputs": [],
   "source": [
    "data = data[[\"id\", \"title\", \"description\"]]\n",
    "data = data.dropna()\n",
    "data = data[data.description.str.len() > 40]\n",
    "data = data.reset_index()\n",
    "data.drop(\"index\", axis=1, inplace=True)"
   ]
  },
  {
   "cell_type": "code",
   "execution_count": 13,
   "metadata": {},
   "outputs": [],
   "source": [
    "ctypes = json.loads(open(\"/home/peer/Data/crime.json\").read())"
   ]
  },
  {
   "cell_type": "code",
   "execution_count": 14,
   "metadata": {},
   "outputs": [
    {
     "data": {
      "application/vnd.jupyter.widget-view+json": {
       "model_id": "55d15c73dda446d4ba2410c09637bde6",
       "version_major": 2,
       "version_minor": 0
      },
      "text/plain": [
       "HBox(children=(IntProgress(value=0, max=20000), HTML(value='')))"
      ]
     },
     "metadata": {},
     "output_type": "display_data"
    },
    {
     "name": "stdout",
     "output_type": "stream",
     "text": [
      "\n"
     ]
    }
   ],
   "source": [
    "ctype_with_idx = []\n",
    "for i in tqdm_notebook(range(len(ctypes))):\n",
    "    same_cases = data[data.title == ctypes[i][\"crime\"][\"title\"]]\n",
    "    for j in same_cases.index:\n",
    "        ctype_with_idx.append((j, ctypes[i][\"crime\"][\"ctype\"]))"
   ]
  },
  {
   "cell_type": "code",
   "execution_count": 15,
   "metadata": {},
   "outputs": [],
   "source": [
    "ctype_with_idx_new = list(set(ctype_with_idx)) # remove duplicates"
   ]
  },
  {
   "cell_type": "code",
   "execution_count": 16,
   "metadata": {},
   "outputs": [],
   "source": [
    "ctype_with_idx_new = np.asarray(ctype_with_idx_new)\n",
    "ctype_with_idx_new = ctype_with_idx_new[np.concatenate((np.where(ctype_with_idx_new.T[1] == 6)[0][:340], (np.where(ctype_with_idx_new.T[1] != 6)[0])))]"
   ]
  },
  {
   "cell_type": "code",
   "execution_count": 17,
   "metadata": {},
   "outputs": [],
   "source": [
    "x, y = data.description[ctype_with_idx_new.T[0]].to_numpy(), ctype_with_idx_new.T[1]\n",
    "np.save(\"data_x.npy\", x)\n",
    "np.save(\"data_y.npy\", y)"
   ]
  },
  {
   "cell_type": "code",
   "execution_count": 20,
   "metadata": {},
   "outputs": [
    {
     "data": {
      "text/plain": [
       "20000"
      ]
     },
     "execution_count": 20,
     "metadata": {},
     "output_type": "execute_result"
    }
   ],
   "source": [
    "len(ctypes)"
   ]
  },
  {
   "cell_type": "code",
   "execution_count": null,
   "metadata": {},
   "outputs": [],
   "source": []
  }
 ],
 "metadata": {
  "kernelspec": {
   "display_name": "Python 3",
   "language": "python",
   "name": "python3"
  },
  "language_info": {
   "codemirror_mode": {
    "name": "ipython",
    "version": 3
   },
   "file_extension": ".py",
   "mimetype": "text/x-python",
   "name": "python",
   "nbconvert_exporter": "python",
   "pygments_lexer": "ipython3",
   "version": "3.6.8"
  }
 },
 "nbformat": 4,
 "nbformat_minor": 2
}
