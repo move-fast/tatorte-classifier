{
 "cells": [
  {
   "cell_type": "code",
   "execution_count": null,
   "metadata": {},
   "outputs": [],
   "source": [
    "import pandas as pd\n",
    "import numpy as np\n",
    "import json\n",
    "from tqdm import tqdm_notebook"
   ]
  },
  {
   "cell_type": "code",
   "execution_count": null,
   "metadata": {},
   "outputs": [],
   "source": [
    "data = pd.read_csv(\"/home/peer/Data/tatorte.csv\", \";\")\n",
    "data.head()"
   ]
  },
  {
   "cell_type": "code",
   "execution_count": null,
   "metadata": {},
   "outputs": [],
   "source": [
    "data = data[[\"id\", \"title\", \"description\"]]\n",
    "data = data.dropna()\n",
    "data = data[data.description.str.len() > 40]\n",
    "data = data.reset_index()\n",
    "data.drop(\"index\", axis=1, inplace=True)"
   ]
  },
  {
   "cell_type": "code",
   "execution_count": null,
   "metadata": {},
   "outputs": [],
   "source": [
    "ctypes = json.loads(open(\"/home/peer/Data/crime.json\").read())"
   ]
  },
  {
   "cell_type": "code",
   "execution_count": null,
   "metadata": {},
   "outputs": [],
   "source": [
    "ctype_with_idx = []\n",
    "for i in tqdm_notebook(range(len(ctypes))):\n",
    "    same_cases = data[data.title == ctypes[i][\"crime\"][\"title\"]]\n",
    "    for j in same_cases.index:\n",
    "        ctype_with_idx.append((j, ctypes[i][\"crime\"][\"ctype\"]))"
   ]
  },
  {
   "cell_type": "code",
   "execution_count": null,
   "metadata": {},
   "outputs": [],
   "source": [
    "ctype_with_idx_new = list(set(ctype_with_idx)) # remove duplicates"
   ]
  },
  {
   "cell_type": "code",
   "execution_count": null,
   "metadata": {},
   "outputs": [],
   "source": [
    "ctype_with_idx_new = np.asarray(ctype_with_idx_new)\n",
    "ctype_with_idx_new = ctype_with_idx_new[np.concatenate((np.where(ctype_with_idx_new.T[1] == 6)[0][:340], (np.where(ctype_with_idx_new.T[1] != 6)[0])))]"
   ]
  },
  {
   "cell_type": "code",
   "execution_count": null,
   "metadata": {},
   "outputs": [],
   "source": [
    "x, y = data.description[ctype_with_idx_new.T[0]].to_numpy(), ctype_with_idx_new.T[1]\n",
    "np.save(\"data_x.npy\", x)\n",
    "np.save(\"data_y.npy\", y)"
   ]
  },
  {
   "cell_type": "code",
   "execution_count": null,
   "metadata": {},
   "outputs": [],
   "source": [
    "len(ctypes)"
   ]
  },
  {
   "cell_type": "code",
   "execution_count": null,
   "metadata": {},
   "outputs": [],
   "source": []
  }
 ],
 "metadata": {
  "kernelspec": {
   "display_name": "Python 3",
   "language": "python",
   "name": "python3"
  },
  "language_info": {
   "codemirror_mode": {
    "name": "ipython",
    "version": 3
   },
   "file_extension": ".py",
   "mimetype": "text/x-python",
   "name": "python",
   "nbconvert_exporter": "python",
   "pygments_lexer": "ipython3",
   "version": "3.6.8"
  }
 },
 "nbformat": 4,
 "nbformat_minor": 2
}
